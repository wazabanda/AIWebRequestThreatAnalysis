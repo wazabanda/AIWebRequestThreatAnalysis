{
 "cells": [
  {
   "cell_type": "code",
   "execution_count": 32,
   "metadata": {},
   "outputs": [],
   "source": [
    "import pandas as pd\n",
    "from sklearn.ensemble import RandomForestClassifier\n",
    "from sklearn.model_selection import train_test_split\n",
    "from sklearn.metrics import classification_report\n",
    "import joblib\n",
    "import re\n",
    "from sus import badwords,symbols"
   ]
  },
  {
   "cell_type": "code",
   "execution_count": null,
   "metadata": {},
   "outputs": [],
   "source": [
    "# req_bad = pd.read_csv('./datasets/2bad_reqff.csv')\n",
    "# print(req_bad.head())"
   ]
  },
  {
   "cell_type": "code",
   "execution_count": null,
   "metadata": {},
   "outputs": [],
   "source": [
    "# req_good = pd.read_csv('./datasets/2good_reqff.csv')\n",
    "# print(req_good.head())"
   ]
  },
  {
   "cell_type": "code",
   "execution_count": 33,
   "metadata": {},
   "outputs": [],
   "source": [
    "feature_columns = [\n",
    "    'path_single_q', 'path_double_q', 'path_dashes', 'path_braces', 'path_spaces', \n",
    "    'path_percentages', 'path_semicolons', 'path_angle_brackets', 'path_special_chars', \n",
    "    'path_badwords_count', 'body_single_q', 'body_double_q', 'body_dashes', 'body_braces', \n",
    "    'body_spaces', 'body_percentages', 'body_semicolons', 'body_angle_brackets', \n",
    "    'body_special_chars', 'body_badwords_count', 'path_length', 'body_length'\n",
    "]"
   ]
  },
  {
   "cell_type": "code",
   "execution_count": 24,
   "metadata": {},
   "outputs": [],
   "source": []
  },
  {
   "cell_type": "code",
   "execution_count": 7,
   "metadata": {},
   "outputs": [],
   "source": [
    "all_data = pd.read_csv('./datasets/all_datas_f.csv')\n"
   ]
  },
  {
   "cell_type": "code",
   "execution_count": null,
   "metadata": {},
   "outputs": [],
   "source": [
    "all_data.drop(columns=feature_columns,inplace=True)\n",
    "all_data.fillna(\"\",inplace=True)\n"
   ]
  },
  {
   "cell_type": "code",
   "execution_count": 15,
   "metadata": {},
   "outputs": [],
   "source": [
    "def count_symbols(text, symbols):\n",
    "    if pd.isna(text):\n",
    "        return 0\n",
    "    return sum(text.count(symbol) for symbol in symbols)\n",
    "\n",
    "def count_bad_words(text, badwords):\n",
    "    if pd.isna(text):\n",
    "        return 0\n",
    "    return sum(1 for word in badwords if word in text.lower())"
   ]
  },
  {
   "cell_type": "code",
   "execution_count": 20,
   "metadata": {},
   "outputs": [],
   "source": [
    "for col in ['path', 'body']:\n",
    "    all_data[f'{col}_single_q'] = all_data[col].apply(lambda x: count_symbols(x, [\"'\"]))\n",
    "    all_data[f'{col}_double_q'] = all_data[col].apply(lambda x: count_symbols(x, ['\"']))\n",
    "    all_data[f'{col}_dashes'] = all_data[col].apply(lambda x: count_symbols(x, [\"--\"]))\n",
    "    all_data[f'{col}_braces'] = all_data[col].apply(lambda x: count_symbols(x, [\"{\", \"}\"]))\n",
    "    all_data[f'{col}_spaces'] = all_data[col].apply(lambda x: count_symbols(x, [\" \"]))\n",
    "    all_data[f'{col}_percentages'] = all_data[col].apply(lambda x: count_symbols(x, [\"%\"]))\n",
    "    all_data[f'{col}_semicolons'] = all_data[col].apply(lambda x: count_symbols(x, [\";\"]))\n",
    "    all_data[f'{col}_angle_brackets'] = all_data[col].apply(lambda x: count_symbols(x, [\"<\", \">\"]))\n",
    "    all_data[f'{col}_special_chars'] = all_data[col].apply(lambda x: sum(1 for c in str(x) if not c.isalnum() and not c.isspace()) if pd.notna(x) else 0)\n",
    "    all_data[f'{col}_badwords_count'] = all_data[col].apply(lambda x: count_bad_words(x, badwords))\n",
    "\n",
    "# General features based on length\n"
   ]
  },
  {
   "cell_type": "code",
   "execution_count": 21,
   "metadata": {},
   "outputs": [],
   "source": [
    "all_data['path_length'] = all_data['path'].apply(lambda x: len(x) if pd.notna(x) else 0)\n",
    "all_data['body_length'] = all_data['body'].apply(lambda x: len(x) if pd.notna(x) else 0)"
   ]
  },
  {
   "cell_type": "code",
   "execution_count": null,
   "metadata": {},
   "outputs": [],
   "source": [
    "print(all_data.head())"
   ]
  },
  {
   "cell_type": "code",
   "execution_count": 34,
   "metadata": {},
   "outputs": [],
   "source": [
    "X = all_data[feature_columns]\n",
    "y = all_data['class']"
   ]
  },
  {
   "cell_type": "code",
   "execution_count": 35,
   "metadata": {},
   "outputs": [],
   "source": [
    "X_train, X_test, y_train, y_test = train_test_split(X, y, test_size=0.3, random_state=42)"
   ]
  },
  {
   "cell_type": "code",
   "execution_count": 42,
   "metadata": {},
   "outputs": [
    {
     "name": "stdout",
     "output_type": "stream",
     "text": [
      "Classification Report:\n",
      "               precision    recall  f1-score   support\n",
      "\n",
      "           0       0.95      0.99      0.97        80\n",
      "           1       0.99      0.95      0.97        77\n",
      "\n",
      "    accuracy                           0.97       157\n",
      "   macro avg       0.97      0.97      0.97       157\n",
      "weighted avg       0.97      0.97      0.97       157\n",
      "\n"
     ]
    }
   ],
   "source": [
    "model = RandomForestClassifier()\n",
    "model.fit(X_train, y_train)\n",
    "\n",
    "# Evaluate the model\n",
    "y_pred = model.predict(X_test)\n",
    "print(\"Classification Report:\\n\", classification_report(y_test, y_pred))\n"
   ]
  },
  {
   "cell_type": "code",
   "execution_count": 37,
   "metadata": {},
   "outputs": [
    {
     "name": "stdout",
     "output_type": "stream",
     "text": [
      "Model saved as 'request_threat_model.pkl'\n"
     ]
    }
   ],
   "source": [
    "joblib.dump(model, 'request_threat_model.pkl')\n",
    "print(\"Model saved as 'request_threat_model.pkl'\")"
   ]
  }
 ],
 "metadata": {
  "kernelspec": {
   "display_name": "env",
   "language": "python",
   "name": "python3"
  },
  "language_info": {
   "codemirror_mode": {
    "name": "ipython",
    "version": 3
   },
   "file_extension": ".py",
   "mimetype": "text/x-python",
   "name": "python",
   "nbconvert_exporter": "python",
   "pygments_lexer": "ipython3",
   "version": "3.12.7"
  }
 },
 "nbformat": 4,
 "nbformat_minor": 2
}
