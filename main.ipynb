{
 "cells": [
  {
   "cell_type": "code",
   "execution_count": 1,
   "metadata": {},
   "outputs": [],
   "source": [
    "import pandas as pd\n",
    "from sklearn.ensemble import RandomForestClassifier\n",
    "from sklearn.model_selection import train_test_split\n",
    "from sklearn.metrics import classification_report\n",
    "import joblib\n",
    "import re\n",
    "from sus import badwords,symbols"
   ]
  },
  {
   "cell_type": "code",
   "execution_count": 2,
   "metadata": {},
   "outputs": [],
   "source": [
    "# req_bad = pd.read_csv('./datasets/2bad_reqff.csv')\n",
    "# print(req_bad.head())"
   ]
  },
  {
   "cell_type": "code",
   "execution_count": 3,
   "metadata": {},
   "outputs": [],
   "source": [
    "# req_good = pd.read_csv('./datasets/2good_reqff.csv')\n",
    "# print(req_good.head())"
   ]
  },
  {
   "cell_type": "code",
   "execution_count": 7,
   "metadata": {},
   "outputs": [],
   "source": [
    "feature_columns = [\n",
    "    'single_q', 'double_q', 'dashes', 'braces', 'spaces', \n",
    "    'percentages', 'semicolons', 'angle_brackets', 'special_chars', \n",
    "    'badwords_count','path_length', 'body_length'\n",
    "]\n",
    "\n",
    "pred_cols =  [\n",
    "    'path_single_q', 'path_double_q', 'path_dashes', 'path_braces', 'path_spaces', \n",
    "    'path_percentages', 'path_semicolons', 'path_angle_brackets', 'path_special_chars', \n",
    "    'path_badwords_count', 'body_single_q', 'body_double_q', 'body_dashes', 'body_braces', \n",
    "    'body_spaces', 'body_percentages', 'body_semicolons', 'body_angle_brackets', \n",
    "    'body_special_chars', 'body_badwords_count', 'path_length', 'body_length'\n",
    "]\n"
   ]
  },
  {
   "cell_type": "code",
   "execution_count": 24,
   "metadata": {},
   "outputs": [],
   "source": []
  },
  {
   "cell_type": "code",
   "execution_count": 14,
   "metadata": {},
   "outputs": [],
   "source": [
    "all_data = pd.read_csv('./datasets/all_datas_f.csv')\n"
   ]
  },
  {
   "cell_type": "code",
   "execution_count": null,
   "metadata": {},
   "outputs": [],
   "source": [
    "all_data"
   ]
  },
  {
   "cell_type": "code",
   "execution_count": 15,
   "metadata": {},
   "outputs": [],
   "source": [
    "all_data.drop(columns=feature_columns,inplace=True)\n",
    "all_data.fillna(\"\",inplace=True)\n"
   ]
  },
  {
   "cell_type": "code",
   "execution_count": 9,
   "metadata": {},
   "outputs": [],
   "source": [
    "def count_symbols(text, symbols):\n",
    "    if pd.isna(text):\n",
    "        return 0\n",
    "    return sum(text.count(symbol) for symbol in symbols)\n",
    "\n",
    "def count_bad_words(text, badwords):\n",
    "    if pd.isna(text):\n",
    "        return 0\n",
    "    return sum(1 for word in badwords if word in text.lower())"
   ]
  },
  {
   "cell_type": "code",
   "execution_count": 16,
   "metadata": {},
   "outputs": [],
   "source": [
    "for col in ['path', 'body']:\n",
    "    all_data[f'{col}_single_q'] = all_data[col].apply(lambda x: count_symbols(x, [\"'\"]))\n",
    "    all_data[f'{col}_double_q'] = all_data[col].apply(lambda x: count_symbols(x, ['\"']))\n",
    "    all_data[f'{col}_dashes'] = all_data[col].apply(lambda x: count_symbols(x, [\"--\"]))\n",
    "    all_data[f'{col}_braces'] = all_data[col].apply(lambda x: count_symbols(x, [\"{\", \"}\"]))\n",
    "    all_data[f'{col}_spaces'] = all_data[col].apply(lambda x: count_symbols(x, [\" \"]))\n",
    "    all_data[f'{col}_percentages'] = all_data[col].apply(lambda x: count_symbols(x, [\"%\"]))\n",
    "    all_data[f'{col}_semicolons'] = all_data[col].apply(lambda x: count_symbols(x, [\";\"]))\n",
    "    all_data[f'{col}_angle_brackets'] = all_data[col].apply(lambda x: count_symbols(x, [\"<\", \">\"]))\n",
    "    all_data[f'{col}_special_chars'] = all_data[col].apply(lambda x: sum(1 for c in str(x) if not c.isalnum() and not c.isspace()) if pd.notna(x) else 0)\n",
    "    all_data[f'{col}_badwords_count'] = all_data[col].apply(lambda x: count_bad_words(x, badwords))\n",
    "\n",
    "# General features based on length\n"
   ]
  },
  {
   "cell_type": "code",
   "execution_count": 11,
   "metadata": {},
   "outputs": [],
   "source": [
    "all_data['path_length'] = all_data['path'].apply(lambda x: len(x) if pd.notna(x) else 0)\n",
    "all_data['body_length'] = all_data['body'].apply(lambda x: len(x) if pd.notna(x) else 0)"
   ]
  },
  {
   "cell_type": "code",
   "execution_count": 12,
   "metadata": {},
   "outputs": [
    {
     "name": "stdout",
     "output_type": "stream",
     "text": [
      "  method                                               path  \\\n",
      "0   POST                                           /doLogin   \n",
      "1   POST                                      /sendFeedback   \n",
      "2    GET                                 /admin/clients.xls   \n",
      "3    GET  /my%20documents/JohnSmith/Bank%20Site%20Docume...   \n",
      "4    GET  /my%20documents/JohnSmith/Bank%20Site%20Docume...   \n",
      "\n",
      "                                                body  class  path_single_q  \\\n",
      "0                  uid=ZAP&passw=ZAP&btnSubmit=Login      1              0   \n",
      "1  cfile=comments.txt&name=ZAP&email_addr=ZAP&sub...      1              0   \n",
      "2                                                         1              0   \n",
      "3                                                         1              0   \n",
      "4                                                         1              0   \n",
      "\n",
      "   path_double_q  path_dashes  path_braces  path_spaces  path_percentages  \\\n",
      "0              0            0            0            0                 0   \n",
      "1              0            0            0            0                 0   \n",
      "2              0            0            0            0                 0   \n",
      "3              0            0            0            0                 3   \n",
      "4              0            0            0            0                 3   \n",
      "\n",
      "   ...  body_dashes  body_braces  body_spaces  body_percentages  \\\n",
      "0  ...            0            0            0                 0   \n",
      "1  ...            0            0            0                 0   \n",
      "2  ...            0            0            0                 0   \n",
      "3  ...            0            0            0                 0   \n",
      "4  ...            0            0            0                 0   \n",
      "\n",
      "   body_semicolons  body_angle_brackets  body_special_chars  \\\n",
      "0                0                    0                   5   \n",
      "1                0                    0                  21   \n",
      "2                0                    0                   0   \n",
      "3                0                    0                   0   \n",
      "4                0                    0                   0   \n",
      "\n",
      "   body_badwords_count  path_length  body_length  \n",
      "0                    0            8           33  \n",
      "1                    0           13          124  \n",
      "2                    0           18            0  \n",
      "3                    0           63            0  \n",
      "4                    0           88            0  \n",
      "\n",
      "[5 rows x 26 columns]\n"
     ]
    }
   ],
   "source": [
    "all_data"
   ]
  },
  {
   "cell_type": "code",
   "execution_count": 17,
   "metadata": {},
   "outputs": [
    {
     "ename": "KeyError",
     "evalue": "\"None of [Index(['single_q', 'double_q', 'dashes', 'braces', 'spaces', 'percentages',\\n       'semicolons', 'angle_brackets', 'special_chars', 'badwords_count',\\n       'path_length', 'body_length'],\\n      dtype='object')] are in the [columns]\"",
     "output_type": "error",
     "traceback": [
      "\u001b[0;31m---------------------------------------------------------------------------\u001b[0m",
      "\u001b[0;31mKeyError\u001b[0m                                  Traceback (most recent call last)",
      "Cell \u001b[0;32mIn[17], line 1\u001b[0m\n\u001b[0;32m----> 1\u001b[0m X \u001b[38;5;241m=\u001b[39m \u001b[43mall_data\u001b[49m\u001b[43m[\u001b[49m\u001b[43mfeature_columns\u001b[49m\u001b[43m]\u001b[49m\n\u001b[1;32m      2\u001b[0m y \u001b[38;5;241m=\u001b[39m all_data[\u001b[38;5;124m'\u001b[39m\u001b[38;5;124mclass\u001b[39m\u001b[38;5;124m'\u001b[39m]\n",
      "File \u001b[0;32m/run/media/wazab/SmallerDrive/GitHub/AIWebRequestThreatAnalysis/env/lib/python3.12/site-packages/pandas/core/frame.py:4108\u001b[0m, in \u001b[0;36mDataFrame.__getitem__\u001b[0;34m(self, key)\u001b[0m\n\u001b[1;32m   4106\u001b[0m     \u001b[38;5;28;01mif\u001b[39;00m is_iterator(key):\n\u001b[1;32m   4107\u001b[0m         key \u001b[38;5;241m=\u001b[39m \u001b[38;5;28mlist\u001b[39m(key)\n\u001b[0;32m-> 4108\u001b[0m     indexer \u001b[38;5;241m=\u001b[39m \u001b[38;5;28;43mself\u001b[39;49m\u001b[38;5;241;43m.\u001b[39;49m\u001b[43mcolumns\u001b[49m\u001b[38;5;241;43m.\u001b[39;49m\u001b[43m_get_indexer_strict\u001b[49m\u001b[43m(\u001b[49m\u001b[43mkey\u001b[49m\u001b[43m,\u001b[49m\u001b[43m \u001b[49m\u001b[38;5;124;43m\"\u001b[39;49m\u001b[38;5;124;43mcolumns\u001b[39;49m\u001b[38;5;124;43m\"\u001b[39;49m\u001b[43m)\u001b[49m[\u001b[38;5;241m1\u001b[39m]\n\u001b[1;32m   4110\u001b[0m \u001b[38;5;66;03m# take() does not accept boolean indexers\u001b[39;00m\n\u001b[1;32m   4111\u001b[0m \u001b[38;5;28;01mif\u001b[39;00m \u001b[38;5;28mgetattr\u001b[39m(indexer, \u001b[38;5;124m\"\u001b[39m\u001b[38;5;124mdtype\u001b[39m\u001b[38;5;124m\"\u001b[39m, \u001b[38;5;28;01mNone\u001b[39;00m) \u001b[38;5;241m==\u001b[39m \u001b[38;5;28mbool\u001b[39m:\n",
      "File \u001b[0;32m/run/media/wazab/SmallerDrive/GitHub/AIWebRequestThreatAnalysis/env/lib/python3.12/site-packages/pandas/core/indexes/base.py:6200\u001b[0m, in \u001b[0;36mIndex._get_indexer_strict\u001b[0;34m(self, key, axis_name)\u001b[0m\n\u001b[1;32m   6197\u001b[0m \u001b[38;5;28;01melse\u001b[39;00m:\n\u001b[1;32m   6198\u001b[0m     keyarr, indexer, new_indexer \u001b[38;5;241m=\u001b[39m \u001b[38;5;28mself\u001b[39m\u001b[38;5;241m.\u001b[39m_reindex_non_unique(keyarr)\n\u001b[0;32m-> 6200\u001b[0m \u001b[38;5;28;43mself\u001b[39;49m\u001b[38;5;241;43m.\u001b[39;49m\u001b[43m_raise_if_missing\u001b[49m\u001b[43m(\u001b[49m\u001b[43mkeyarr\u001b[49m\u001b[43m,\u001b[49m\u001b[43m \u001b[49m\u001b[43mindexer\u001b[49m\u001b[43m,\u001b[49m\u001b[43m \u001b[49m\u001b[43maxis_name\u001b[49m\u001b[43m)\u001b[49m\n\u001b[1;32m   6202\u001b[0m keyarr \u001b[38;5;241m=\u001b[39m \u001b[38;5;28mself\u001b[39m\u001b[38;5;241m.\u001b[39mtake(indexer)\n\u001b[1;32m   6203\u001b[0m \u001b[38;5;28;01mif\u001b[39;00m \u001b[38;5;28misinstance\u001b[39m(key, Index):\n\u001b[1;32m   6204\u001b[0m     \u001b[38;5;66;03m# GH 42790 - Preserve name from an Index\u001b[39;00m\n",
      "File \u001b[0;32m/run/media/wazab/SmallerDrive/GitHub/AIWebRequestThreatAnalysis/env/lib/python3.12/site-packages/pandas/core/indexes/base.py:6249\u001b[0m, in \u001b[0;36mIndex._raise_if_missing\u001b[0;34m(self, key, indexer, axis_name)\u001b[0m\n\u001b[1;32m   6247\u001b[0m \u001b[38;5;28;01mif\u001b[39;00m nmissing:\n\u001b[1;32m   6248\u001b[0m     \u001b[38;5;28;01mif\u001b[39;00m nmissing \u001b[38;5;241m==\u001b[39m \u001b[38;5;28mlen\u001b[39m(indexer):\n\u001b[0;32m-> 6249\u001b[0m         \u001b[38;5;28;01mraise\u001b[39;00m \u001b[38;5;167;01mKeyError\u001b[39;00m(\u001b[38;5;124mf\u001b[39m\u001b[38;5;124m\"\u001b[39m\u001b[38;5;124mNone of [\u001b[39m\u001b[38;5;132;01m{\u001b[39;00mkey\u001b[38;5;132;01m}\u001b[39;00m\u001b[38;5;124m] are in the [\u001b[39m\u001b[38;5;132;01m{\u001b[39;00maxis_name\u001b[38;5;132;01m}\u001b[39;00m\u001b[38;5;124m]\u001b[39m\u001b[38;5;124m\"\u001b[39m)\n\u001b[1;32m   6251\u001b[0m     not_found \u001b[38;5;241m=\u001b[39m \u001b[38;5;28mlist\u001b[39m(ensure_index(key)[missing_mask\u001b[38;5;241m.\u001b[39mnonzero()[\u001b[38;5;241m0\u001b[39m]]\u001b[38;5;241m.\u001b[39munique())\n\u001b[1;32m   6252\u001b[0m     \u001b[38;5;28;01mraise\u001b[39;00m \u001b[38;5;167;01mKeyError\u001b[39;00m(\u001b[38;5;124mf\u001b[39m\u001b[38;5;124m\"\u001b[39m\u001b[38;5;132;01m{\u001b[39;00mnot_found\u001b[38;5;132;01m}\u001b[39;00m\u001b[38;5;124m not in index\u001b[39m\u001b[38;5;124m\"\u001b[39m)\n",
      "\u001b[0;31mKeyError\u001b[0m: \"None of [Index(['single_q', 'double_q', 'dashes', 'braces', 'spaces', 'percentages',\\n       'semicolons', 'angle_brackets', 'special_chars', 'badwords_count',\\n       'path_length', 'body_length'],\\n      dtype='object')] are in the [columns]\""
     ]
    }
   ],
   "source": [
    "X = all_data[feature_columns]\n",
    "y = all_data['class']"
   ]
  },
  {
   "cell_type": "code",
   "execution_count": 35,
   "metadata": {},
   "outputs": [],
   "source": [
    "X_train, X_test, y_train, y_test = train_test_split(X, y, test_size=0.3, random_state=42)"
   ]
  },
  {
   "cell_type": "code",
   "execution_count": 42,
   "metadata": {},
   "outputs": [
    {
     "name": "stdout",
     "output_type": "stream",
     "text": [
      "Classification Report:\n",
      "               precision    recall  f1-score   support\n",
      "\n",
      "           0       0.95      0.99      0.97        80\n",
      "           1       0.99      0.95      0.97        77\n",
      "\n",
      "    accuracy                           0.97       157\n",
      "   macro avg       0.97      0.97      0.97       157\n",
      "weighted avg       0.97      0.97      0.97       157\n",
      "\n"
     ]
    }
   ],
   "source": [
    "model = RandomForestClassifier()\n",
    "model.fit(X_train, y_train)\n",
    "\n",
    "# Evaluate the model\n",
    "y_pred = model.predict(X_test)\n",
    "print(\"Classification Report:\\n\", classification_report(y_test, y_pred))\n"
   ]
  },
  {
   "cell_type": "code",
   "execution_count": 37,
   "metadata": {},
   "outputs": [
    {
     "name": "stdout",
     "output_type": "stream",
     "text": [
      "Model saved as 'request_threat_model.pkl'\n"
     ]
    }
   ],
   "source": [
    "joblib.dump(model, 'request_threat_model.pkl')\n",
    "print(\"Model saved as 'request_threat_model.pkl'\")"
   ]
  }
 ],
 "metadata": {
  "kernelspec": {
   "display_name": "env",
   "language": "python",
   "name": "python3"
  },
  "language_info": {
   "codemirror_mode": {
    "name": "ipython",
    "version": 3
   },
   "file_extension": ".py",
   "mimetype": "text/x-python",
   "name": "python",
   "nbconvert_exporter": "python",
   "pygments_lexer": "ipython3",
   "version": "3.12.7"
  }
 },
 "nbformat": 4,
 "nbformat_minor": 2
}
