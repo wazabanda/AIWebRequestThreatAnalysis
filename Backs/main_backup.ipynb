{
 "cells": [
  {
   "cell_type": "code",
   "execution_count": 1,
   "metadata": {},
   "outputs": [],
   "source": [
    "import pandas as pd\n",
    "from sklearn.ensemble import RandomForestClassifier\n",
    "from sklearn.model_selection import train_test_split\n",
    "from sklearn.metrics import classification_report\n",
    "import joblib\n",
    "import re\n",
    "from sus import badwords,symbols\n",
    "\n"
   ]
  },
  {
   "cell_type": "code",
   "execution_count": null,
   "metadata": {},
   "outputs": [],
   "source": [
    "# req_bad = pd.read_csv('./datasets/2bad_reqff.csv')\n",
    "# print(req_bad.head())"
   ]
  },
  {
   "cell_type": "code",
   "execution_count": null,
   "metadata": {},
   "outputs": [],
   "source": [
    "# req_good = pd.read_csv('./datasets/2good_reqff.csv')\n",
    "# print(req_good.head())"
   ]
  },
  {
   "cell_type": "code",
   "execution_count": 2,
   "metadata": {},
   "outputs": [],
   "source": [
    "feature_columns = [\n",
    "    'path_single_q', 'path_double_q', 'path_dashes', 'path_braces', 'path_spaces', \n",
    "    'path_percentages', 'path_semicolons', 'path_angle_brackets', 'path_special_chars', \n",
    "    'path_badwords_count', 'body_single_q', 'body_double_q', 'body_dashes', 'body_braces', \n",
    "    'body_spaces', 'body_percentages', 'body_semicolons', 'body_angle_brackets', \n",
    "    'body_special_chars', 'body_badwords_count', 'path_length', 'body_length'\n",
    "]\n",
    "\n",
    "to_drop = [\n",
    "    'single_q', 'double_q', 'dashes', 'braces', 'spaces', \n",
    "    'percentages', 'semicolons', 'angle_brackets', 'special_chars', \n",
    "    'badwords_count','path_length','body_length'\n",
    "]"
   ]
  },
  {
   "cell_type": "code",
   "execution_count": 24,
   "metadata": {},
   "outputs": [],
   "source": []
  },
  {
   "cell_type": "code",
   "execution_count": 3,
   "metadata": {},
   "outputs": [],
   "source": [
    "all_data = pd.read_csv('./datasets/all_datas_f.csv')\n"
   ]
  },
  {
   "cell_type": "code",
   "execution_count": 4,
   "metadata": {},
   "outputs": [],
   "source": [
    "all_data.drop(columns=to_drop,inplace=True)\n",
    "all_data.fillna(\"\",inplace=True)\n"
   ]
  },
  {
   "cell_type": "code",
   "execution_count": 5,
   "metadata": {},
   "outputs": [
    {
     "data": {
      "text/html": [
       "<div>\n",
       "<style scoped>\n",
       "    .dataframe tbody tr th:only-of-type {\n",
       "        vertical-align: middle;\n",
       "    }\n",
       "\n",
       "    .dataframe tbody tr th {\n",
       "        vertical-align: top;\n",
       "    }\n",
       "\n",
       "    .dataframe thead th {\n",
       "        text-align: right;\n",
       "    }\n",
       "</style>\n",
       "<table border=\"1\" class=\"dataframe\">\n",
       "  <thead>\n",
       "    <tr style=\"text-align: right;\">\n",
       "      <th></th>\n",
       "      <th>method</th>\n",
       "      <th>path</th>\n",
       "      <th>body</th>\n",
       "      <th>class</th>\n",
       "    </tr>\n",
       "  </thead>\n",
       "  <tbody>\n",
       "    <tr>\n",
       "      <th>0</th>\n",
       "      <td>POST</td>\n",
       "      <td>/doLogin</td>\n",
       "      <td>uid=ZAP&amp;passw=ZAP&amp;btnSubmit=Login</td>\n",
       "      <td>1</td>\n",
       "    </tr>\n",
       "    <tr>\n",
       "      <th>1</th>\n",
       "      <td>POST</td>\n",
       "      <td>/sendFeedback</td>\n",
       "      <td>cfile=comments.txt&amp;name=ZAP&amp;email_addr=ZAP&amp;sub...</td>\n",
       "      <td>1</td>\n",
       "    </tr>\n",
       "    <tr>\n",
       "      <th>2</th>\n",
       "      <td>GET</td>\n",
       "      <td>/admin/clients.xls</td>\n",
       "      <td></td>\n",
       "      <td>1</td>\n",
       "    </tr>\n",
       "    <tr>\n",
       "      <th>3</th>\n",
       "      <td>GET</td>\n",
       "      <td>/my%20documents/JohnSmith/Bank%20Site%20Docume...</td>\n",
       "      <td></td>\n",
       "      <td>1</td>\n",
       "    </tr>\n",
       "    <tr>\n",
       "      <th>4</th>\n",
       "      <td>GET</td>\n",
       "      <td>/my%20documents/JohnSmith/Bank%20Site%20Docume...</td>\n",
       "      <td></td>\n",
       "      <td>1</td>\n",
       "    </tr>\n",
       "    <tr>\n",
       "      <th>...</th>\n",
       "      <td>...</td>\n",
       "      <td>...</td>\n",
       "      <td>...</td>\n",
       "      <td>...</td>\n",
       "    </tr>\n",
       "    <tr>\n",
       "      <th>517</th>\n",
       "      <td>GET</td>\n",
       "      <td>/static/index.jsp?content=%3Cxsl%3Avalue-of+se...</td>\n",
       "      <td></td>\n",
       "      <td>1</td>\n",
       "    </tr>\n",
       "    <tr>\n",
       "      <th>518</th>\n",
       "      <td>GET</td>\n",
       "      <td>/search.jsp?query=system-property%28%27xsl%3Av...</td>\n",
       "      <td></td>\n",
       "      <td>1</td>\n",
       "    </tr>\n",
       "    <tr>\n",
       "      <th>519</th>\n",
       "      <td>POST</td>\n",
       "      <td>/doLogin</td>\n",
       "      <td>uid=%3Cxsl%3Avariable+name%3D%22rtobject%22+se...</td>\n",
       "      <td>1</td>\n",
       "    </tr>\n",
       "    <tr>\n",
       "      <th>520</th>\n",
       "      <td>GET</td>\n",
       "      <td>/ws_ftp.ini</td>\n",
       "      <td></td>\n",
       "      <td>1</td>\n",
       "    </tr>\n",
       "    <tr>\n",
       "      <th>521</th>\n",
       "      <td>POST</td>\n",
       "      <td>/doSubscribe</td>\n",
       "      <td>txtEmail=%3Cxsl%3Avariable+name%3D%22rtobject%...</td>\n",
       "      <td>1</td>\n",
       "    </tr>\n",
       "  </tbody>\n",
       "</table>\n",
       "<p>522 rows × 4 columns</p>\n",
       "</div>"
      ],
      "text/plain": [
       "    method                                               path  \\\n",
       "0     POST                                           /doLogin   \n",
       "1     POST                                      /sendFeedback   \n",
       "2      GET                                 /admin/clients.xls   \n",
       "3      GET  /my%20documents/JohnSmith/Bank%20Site%20Docume...   \n",
       "4      GET  /my%20documents/JohnSmith/Bank%20Site%20Docume...   \n",
       "..     ...                                                ...   \n",
       "517    GET  /static/index.jsp?content=%3Cxsl%3Avalue-of+se...   \n",
       "518    GET  /search.jsp?query=system-property%28%27xsl%3Av...   \n",
       "519   POST                                           /doLogin   \n",
       "520    GET                                        /ws_ftp.ini   \n",
       "521   POST                                       /doSubscribe   \n",
       "\n",
       "                                                  body  class  \n",
       "0                    uid=ZAP&passw=ZAP&btnSubmit=Login      1  \n",
       "1    cfile=comments.txt&name=ZAP&email_addr=ZAP&sub...      1  \n",
       "2                                                           1  \n",
       "3                                                           1  \n",
       "4                                                           1  \n",
       "..                                                 ...    ...  \n",
       "517                                                         1  \n",
       "518                                                         1  \n",
       "519  uid=%3Cxsl%3Avariable+name%3D%22rtobject%22+se...      1  \n",
       "520                                                         1  \n",
       "521  txtEmail=%3Cxsl%3Avariable+name%3D%22rtobject%...      1  \n",
       "\n",
       "[522 rows x 4 columns]"
      ]
     },
     "execution_count": 5,
     "metadata": {},
     "output_type": "execute_result"
    }
   ],
   "source": [
    "all_data"
   ]
  },
  {
   "cell_type": "code",
   "execution_count": 6,
   "metadata": {},
   "outputs": [],
   "source": [
    "def count_symbols(text, symbols):\n",
    "    if pd.isna(text):\n",
    "        return 0\n",
    "    return sum(text.count(symbol) for symbol in symbols)\n",
    "\n",
    "def count_bad_words(text, badwords):\n",
    "    if pd.isna(text):\n",
    "        return 0\n",
    "    return sum(1 for word in badwords if word in text.lower())"
   ]
  },
  {
   "cell_type": "code",
   "execution_count": 7,
   "metadata": {},
   "outputs": [
    {
     "name": "stderr",
     "output_type": "stream",
     "text": [
      "[nltk_data] Error loading punkt_tab: <urlopen error [Errno -3]\n",
      "[nltk_data]     Temporary failure in name resolution>\n"
     ]
    },
    {
     "data": {
      "text/plain": [
       "False"
      ]
     },
     "execution_count": 7,
     "metadata": {},
     "output_type": "execute_result"
    }
   ],
   "source": [
    "import nltk\n",
    "nltk.download('punkt_tab')\n"
   ]
  },
  {
   "cell_type": "code",
   "execution_count": 8,
   "metadata": {},
   "outputs": [],
   "source": [
    "from sklearn.feature_extraction.text import TfidfVectorizer\n",
    "from textblob import TextBlob\n",
    "from nltk.tokenize import word_tokenize\n",
    "import numpy as np\n",
    "\n",
    "# Initialize TF-IDF vectorizer\n",
    "tfidf_vectorizer = TfidfVectorizer(max_features=100)\n",
    "combined_text = all_data['path'].astype(str) + \" \" + all_data['body'].astype(str)\n",
    "tfidf_vectorizer.fit(combined_text)\n",
    "joblib.dump(tfidf_vectorizer,'tfidf.joblib')\n",
    "\n",
    "def preprocess_text(text):\n",
    "    tokens = word_tokenize(text.lower())\n",
    "    return ' '.join(tokens)\n",
    "\n",
    "def extract_features(row):\n",
    "    path = row['path']\n",
    "    body = row['body']\n",
    "    \n",
    "    features = {\n",
    "        'path_length': len(path),\n",
    "        'body_length': len(body),\n",
    "        'body_sentiment': TextBlob(body).sentiment.polarity,\n",
    "        'path_sentiment': TextBlob(path).sentiment.polarity\n",
    "    }\n",
    "    \n",
    "    # Vectorize text data\n",
    "    processed_body = preprocess_text(body)\n",
    "    processed_path = preprocess_text(path)\n",
    "    \n",
    "    # Get average TF-IDF score\n",
    "    features['tfidf_body'] = np.mean(tfidf_vectorizer.transform([processed_body]).toarray(), axis=1)[0]\n",
    "    features['tfidf_path'] = np.mean(tfidf_vectorizer.transform([processed_path]).toarray(), axis=1)[0]\n",
    "    \n",
    "    return pd.Series(features)\n",
    "\n",
    "# Apply feature extraction to each row\n",
    "data_features = all_data.apply(extract_features, axis=1)\n",
    "data = pd.concat([all_data, data_features], axis=1)\n",
    "\n",
    "# Remove original text columns\n",
    "data = data.drop(columns=['body','path','method'])\n"
   ]
  },
  {
   "cell_type": "code",
   "execution_count": 9,
   "metadata": {},
   "outputs": [
    {
     "data": {
      "text/html": [
       "<div>\n",
       "<style scoped>\n",
       "    .dataframe tbody tr th:only-of-type {\n",
       "        vertical-align: middle;\n",
       "    }\n",
       "\n",
       "    .dataframe tbody tr th {\n",
       "        vertical-align: top;\n",
       "    }\n",
       "\n",
       "    .dataframe thead th {\n",
       "        text-align: right;\n",
       "    }\n",
       "</style>\n",
       "<table border=\"1\" class=\"dataframe\">\n",
       "  <thead>\n",
       "    <tr style=\"text-align: right;\">\n",
       "      <th></th>\n",
       "      <th>class</th>\n",
       "      <th>path_length</th>\n",
       "      <th>body_length</th>\n",
       "      <th>body_sentiment</th>\n",
       "      <th>path_sentiment</th>\n",
       "      <th>tfidf_body</th>\n",
       "      <th>tfidf_path</th>\n",
       "    </tr>\n",
       "  </thead>\n",
       "  <tbody>\n",
       "    <tr>\n",
       "      <th>0</th>\n",
       "      <td>1</td>\n",
       "      <td>8.0</td>\n",
       "      <td>33.0</td>\n",
       "      <td>0.0</td>\n",
       "      <td>0.0</td>\n",
       "      <td>0.021982</td>\n",
       "      <td>0.010000</td>\n",
       "    </tr>\n",
       "    <tr>\n",
       "      <th>1</th>\n",
       "      <td>1</td>\n",
       "      <td>13.0</td>\n",
       "      <td>124.0</td>\n",
       "      <td>0.0</td>\n",
       "      <td>0.0</td>\n",
       "      <td>0.035967</td>\n",
       "      <td>0.010000</td>\n",
       "    </tr>\n",
       "    <tr>\n",
       "      <th>2</th>\n",
       "      <td>1</td>\n",
       "      <td>18.0</td>\n",
       "      <td>0.0</td>\n",
       "      <td>0.0</td>\n",
       "      <td>0.0</td>\n",
       "      <td>0.000000</td>\n",
       "      <td>0.000000</td>\n",
       "    </tr>\n",
       "    <tr>\n",
       "      <th>3</th>\n",
       "      <td>1</td>\n",
       "      <td>63.0</td>\n",
       "      <td>0.0</td>\n",
       "      <td>0.0</td>\n",
       "      <td>0.0</td>\n",
       "      <td>0.000000</td>\n",
       "      <td>0.022502</td>\n",
       "    </tr>\n",
       "    <tr>\n",
       "      <th>4</th>\n",
       "      <td>1</td>\n",
       "      <td>88.0</td>\n",
       "      <td>0.0</td>\n",
       "      <td>0.0</td>\n",
       "      <td>0.0</td>\n",
       "      <td>0.000000</td>\n",
       "      <td>0.025939</td>\n",
       "    </tr>\n",
       "    <tr>\n",
       "      <th>...</th>\n",
       "      <td>...</td>\n",
       "      <td>...</td>\n",
       "      <td>...</td>\n",
       "      <td>...</td>\n",
       "      <td>...</td>\n",
       "      <td>...</td>\n",
       "      <td>...</td>\n",
       "    </tr>\n",
       "    <tr>\n",
       "      <th>517</th>\n",
       "      <td>1</td>\n",
       "      <td>104.0</td>\n",
       "      <td>0.0</td>\n",
       "      <td>0.0</td>\n",
       "      <td>0.0</td>\n",
       "      <td>0.000000</td>\n",
       "      <td>0.036701</td>\n",
       "    </tr>\n",
       "    <tr>\n",
       "      <th>518</th>\n",
       "      <td>1</td>\n",
       "      <td>63.0</td>\n",
       "      <td>0.0</td>\n",
       "      <td>0.0</td>\n",
       "      <td>0.0</td>\n",
       "      <td>0.000000</td>\n",
       "      <td>0.027007</td>\n",
       "    </tr>\n",
       "    <tr>\n",
       "      <th>519</th>\n",
       "      <td>1</td>\n",
       "      <td>8.0</td>\n",
       "      <td>385.0</td>\n",
       "      <td>0.0</td>\n",
       "      <td>0.0</td>\n",
       "      <td>0.035783</td>\n",
       "      <td>0.010000</td>\n",
       "    </tr>\n",
       "    <tr>\n",
       "      <th>520</th>\n",
       "      <td>1</td>\n",
       "      <td>11.0</td>\n",
       "      <td>0.0</td>\n",
       "      <td>0.0</td>\n",
       "      <td>0.0</td>\n",
       "      <td>0.000000</td>\n",
       "      <td>0.010000</td>\n",
       "    </tr>\n",
       "    <tr>\n",
       "      <th>521</th>\n",
       "      <td>1</td>\n",
       "      <td>12.0</td>\n",
       "      <td>384.0</td>\n",
       "      <td>0.0</td>\n",
       "      <td>0.0</td>\n",
       "      <td>0.034557</td>\n",
       "      <td>0.010000</td>\n",
       "    </tr>\n",
       "  </tbody>\n",
       "</table>\n",
       "<p>522 rows × 7 columns</p>\n",
       "</div>"
      ],
      "text/plain": [
       "     class  path_length  body_length  body_sentiment  path_sentiment  \\\n",
       "0        1          8.0         33.0             0.0             0.0   \n",
       "1        1         13.0        124.0             0.0             0.0   \n",
       "2        1         18.0          0.0             0.0             0.0   \n",
       "3        1         63.0          0.0             0.0             0.0   \n",
       "4        1         88.0          0.0             0.0             0.0   \n",
       "..     ...          ...          ...             ...             ...   \n",
       "517      1        104.0          0.0             0.0             0.0   \n",
       "518      1         63.0          0.0             0.0             0.0   \n",
       "519      1          8.0        385.0             0.0             0.0   \n",
       "520      1         11.0          0.0             0.0             0.0   \n",
       "521      1         12.0        384.0             0.0             0.0   \n",
       "\n",
       "     tfidf_body  tfidf_path  \n",
       "0      0.021982    0.010000  \n",
       "1      0.035967    0.010000  \n",
       "2      0.000000    0.000000  \n",
       "3      0.000000    0.022502  \n",
       "4      0.000000    0.025939  \n",
       "..          ...         ...  \n",
       "517    0.000000    0.036701  \n",
       "518    0.000000    0.027007  \n",
       "519    0.035783    0.010000  \n",
       "520    0.000000    0.010000  \n",
       "521    0.034557    0.010000  \n",
       "\n",
       "[522 rows x 7 columns]"
      ]
     },
     "execution_count": 9,
     "metadata": {},
     "output_type": "execute_result"
    }
   ],
   "source": [
    "data"
   ]
  },
  {
   "cell_type": "code",
   "execution_count": 10,
   "metadata": {},
   "outputs": [],
   "source": [
    "from sklearn.model_selection import train_test_split\n",
    "\n",
    "X = data.drop(columns=['class'])\n",
    "y = data['class']\n",
    "\n",
    "X_train, X_test, y_train, y_test = train_test_split(X, y, test_size=0.2, random_state=42)\n"
   ]
  },
  {
   "cell_type": "code",
   "execution_count": 11,
   "metadata": {},
   "outputs": [
    {
     "name": "stdout",
     "output_type": "stream",
     "text": [
      "Accuracy: 0.9238095238095239\n",
      "Classification Report:\n",
      "               precision    recall  f1-score   support\n",
      "\n",
      "           0       0.87      0.98      0.92        48\n",
      "           1       0.98      0.88      0.93        57\n",
      "\n",
      "    accuracy                           0.92       105\n",
      "   macro avg       0.93      0.93      0.92       105\n",
      "weighted avg       0.93      0.92      0.92       105\n",
      "\n"
     ]
    }
   ],
   "source": [
    "from sklearn.ensemble import RandomForestClassifier\n",
    "from sklearn.metrics import accuracy_score, classification_report\n",
    "\n",
    "# Initialize and train the model\n",
    "model = RandomForestClassifier(n_estimators=100, random_state=42)\n",
    "model.fit(X_train, y_train)\n",
    "\n",
    "# Save the model\n",
    "import joblib\n",
    "joblib.dump(model, 'request_threat_model.pkl')\n",
    "\n",
    "# Evaluate the model\n",
    "y_pred = model.predict(X_test)\n",
    "print(\"Accuracy:\", accuracy_score(y_test, y_pred))\n",
    "print(\"Classification Report:\\n\", classification_report(y_test, y_pred))\n"
   ]
  },
  {
   "cell_type": "code",
   "execution_count": 20,
   "metadata": {},
   "outputs": [],
   "source": [
    "for col in ['path', 'body']:\n",
    "    all_data[f'{col}_single_q'] = all_data[col].apply(lambda x: count_symbols(x, [\"'\"]))\n",
    "    all_data[f'{col}_double_q'] = all_data[col].apply(lambda x: count_symbols(x, ['\"']))\n",
    "    all_data[f'{col}_dashes'] = all_data[col].apply(lambda x: count_symbols(x, [\"--\"]))\n",
    "    all_data[f'{col}_braces'] = all_data[col].apply(lambda x: count_symbols(x, [\"{\", \"}\"]))\n",
    "    all_data[f'{col}_spaces'] = all_data[col].apply(lambda x: count_symbols(x, [\" \"]))\n",
    "    all_data[f'{col}_percentages'] = all_data[col].apply(lambda x: count_symbols(x, [\"%\"]))\n",
    "    all_data[f'{col}_semicolons'] = all_data[col].apply(lambda x: count_symbols(x, [\";\"]))\n",
    "    all_data[f'{col}_angle_brackets'] = all_data[col].apply(lambda x: count_symbols(x, [\"<\", \">\"]))\n",
    "    all_data[f'{col}_special_chars'] = all_data[col].apply(lambda x: sum(1 for c in str(x) if not c.isalnum() and not c.isspace()) if pd.notna(x) else 0)\n",
    "    all_data[f'{col}_badwords_count'] = all_data[col].apply(lambda x: count_bad_words(x, badwords))\n",
    "\n",
    "# General features based on length\n"
   ]
  },
  {
   "cell_type": "code",
   "execution_count": 21,
   "metadata": {},
   "outputs": [],
   "source": [
    "all_data['path_length'] = all_data['path'].apply(lambda x: len(x) if pd.notna(x) else 0)\n",
    "all_data['body_length'] = all_data['body'].apply(lambda x: len(x) if pd.notna(x) else 0)"
   ]
  },
  {
   "cell_type": "code",
   "execution_count": null,
   "metadata": {},
   "outputs": [],
   "source": [
    "print(all_data.head())"
   ]
  },
  {
   "cell_type": "code",
   "execution_count": 34,
   "metadata": {},
   "outputs": [],
   "source": [
    "X = all_data[feature_columns]\n",
    "y = all_data['class']"
   ]
  },
  {
   "cell_type": "code",
   "execution_count": 35,
   "metadata": {},
   "outputs": [],
   "source": [
    "X_train, X_test, y_train, y_test = train_test_split(X, y, test_size=0.3, random_state=42)"
   ]
  },
  {
   "cell_type": "code",
   "execution_count": 42,
   "metadata": {},
   "outputs": [
    {
     "name": "stdout",
     "output_type": "stream",
     "text": [
      "Classification Report:\n",
      "               precision    recall  f1-score   support\n",
      "\n",
      "           0       0.95      0.99      0.97        80\n",
      "           1       0.99      0.95      0.97        77\n",
      "\n",
      "    accuracy                           0.97       157\n",
      "   macro avg       0.97      0.97      0.97       157\n",
      "weighted avg       0.97      0.97      0.97       157\n",
      "\n"
     ]
    }
   ],
   "source": [
    "model = RandomForestClassifier()\n",
    "model.fit(X_train, y_train)\n",
    "\n",
    "# Evaluate the model\n",
    "y_pred = model.predict(X_test)\n",
    "print(\"Classification Report:\\n\", classification_report(y_test, y_pred))\n"
   ]
  },
  {
   "cell_type": "code",
   "execution_count": 37,
   "metadata": {},
   "outputs": [
    {
     "name": "stdout",
     "output_type": "stream",
     "text": [
      "Model saved as 'request_threat_model.pkl'\n"
     ]
    }
   ],
   "source": [
    "joblib.dump(model, 'request_threat_model.pkl')\n",
    "print(\"Model saved as 'request_threat_model.pkl'\")"
   ]
  }
 ],
 "metadata": {
  "kernelspec": {
   "display_name": "env",
   "language": "python",
   "name": "python3"
  },
  "language_info": {
   "codemirror_mode": {
    "name": "ipython",
    "version": 3
   },
   "file_extension": ".py",
   "mimetype": "text/x-python",
   "name": "python",
   "nbconvert_exporter": "python",
   "pygments_lexer": "ipython3",
   "version": "3.12.7"
  }
 },
 "nbformat": 4,
 "nbformat_minor": 2
}
